{
 "cells": [
  {
   "cell_type": "markdown",
   "metadata": {},
   "source": [
    "**Description:**\n",
    "\n",
    "This is the Jupyter notebook is used for the machine learning part of the project. In this notebook the focus is on ensebmle methods, which are: Random Forest, AdaBoost and XGBoost\n",
    "\n",
    "**Project Name:** Lending Club\n",
    "\n",
    "**Team:** Silas Mederer, Jonas Bechthold\n",
    "\n",
    "**Date:** 2020-10-02 to 2020-10-08"
   ]
  },
  {
   "cell_type": "markdown",
   "metadata": {},
   "source": [
    "# Setting up & load data"
   ]
  },
  {
   "cell_type": "code",
   "execution_count": 1,
   "metadata": {},
   "outputs": [],
   "source": [
    "import numpy as np\n",
    "import pandas as pd\n",
    "import seaborn as sns\n",
    "import matplotlib.pyplot as plt\n",
    "%matplotlib inline"
   ]
  },
  {
   "cell_type": "code",
   "execution_count": 83,
   "metadata": {},
   "outputs": [],
   "source": [
    "random_state = 100           # Ensures modeling results can be replicated\n",
    "pd.set_option('display.max_columns', 50) # Sets maximum columns displayed in tables"
   ]
  },
  {
   "cell_type": "markdown",
   "metadata": {},
   "source": [
    "Import our dataframae, which was exported after the EDA."
   ]
  },
  {
   "cell_type": "code",
   "execution_count": 2,
   "metadata": {},
   "outputs": [],
   "source": [
    "df = pd.read_csv('data/df_clean.csv')\n",
    "df.drop(\"Unnamed: 0\", inplace=True, axis=1)"
   ]
  },
  {
   "cell_type": "code",
   "execution_count": 3,
   "metadata": {
    "scrolled": true
   },
   "outputs": [
    {
     "name": "stdout",
     "output_type": "stream",
     "text": [
      "<class 'pandas.core.frame.DataFrame'>\n",
      "RangeIndex: 41292 entries, 0 to 41291\n",
      "Data columns (total 14 columns):\n",
      "loan_amnt               41292 non-null float64\n",
      "term_is_36              41292 non-null int64\n",
      "int_rate                41292 non-null float64\n",
      "grade                   41292 non-null object\n",
      "sub_grade               41292 non-null object\n",
      "emp_length              41292 non-null float64\n",
      "annual_inc              41292 non-null float64\n",
      "purpose                 41292 non-null object\n",
      "addr_state              41292 non-null object\n",
      "dti                     41292 non-null float64\n",
      "inq_last_6mths          41292 non-null float64\n",
      "open_acc                41292 non-null float64\n",
      "pub_rec_bankruptcies    41292 non-null int64\n",
      "default                 41292 non-null int64\n",
      "dtypes: float64(7), int64(3), object(4)\n",
      "memory usage: 4.4+ MB\n",
      "None\n"
     ]
    }
   ],
   "source": [
    "print(df.info())"
   ]
  },
  {
   "cell_type": "code",
   "execution_count": 110,
   "metadata": {},
   "outputs": [],
   "source": [
    "# Function to plot confusion matrices\n",
    "\n",
    "def scores(y_train, y_test, y_train_pred, y_pred, filename=str):\n",
    "    \n",
    "    sns.set(font_scale=1.5)\n",
    "    print(\"Confusion matrix train\")\n",
    "    print(confusion_matrix(y_train, y_train_pred))\n",
    "\n",
    "    print(\"Classification report train\")\n",
    "    print(classification_report(y_train, y_train_pred))\n",
    "\n",
    "    # Figure test\n",
    "    conf_mat = pd.crosstab(np.ravel(y_test), np.ravel(y_pred),\n",
    "                           colnames=[\"Predicted\"], rownames=[\"Actual\"])\n",
    "    sns.heatmap(conf_mat, annot=True, cmap=\"Blues\", fmt=\"g\")\n",
    "\n",
    "    plt.title('Confusion Matrix: Test Data')\n",
    "    plt.savefig(\n",
    "        f\"plots/conf-matrix-test-{filename}.png\", dpi=300, bbox_inches='tight')\n",
    "    plt.show()\n",
    "    plt.close()\n",
    "\n",
    "    print(\"Confusion matrix test\")\n",
    "    print(confusion_matrix(y_test, y_pred))\n",
    "\n",
    "    print(\"Classification report test\")\n",
    "    print(classification_report(y_test, y_pred))\n",
    "\n",
    "    # Figure train\n",
    "    conf_mat = pd.crosstab(np.ravel(y_train), np.ravel(y_train_pred),\n",
    "                           colnames=[\"Predicted\"], rownames=[\"Actual\"])\n",
    "    sns.heatmap(conf_mat, annot=True, cmap=\"Blues\", fmt=\"g\")\n",
    "\n",
    "    plt.title('Confusion Matrix: Training Data')\n",
    "    plt.savefig(\n",
    "        f\"plots/conf-matrix-train-{filename}.png\", dpi=300, bbox_inches='tight')\n",
    "    plt.show()\n",
    "    plt.close()"
   ]
  },
  {
   "cell_type": "markdown",
   "metadata": {},
   "source": [
    "## Upscaling of the minority class default = 1 and downscaling the majority class"
   ]
  },
  {
   "cell_type": "markdown",
   "metadata": {},
   "source": [
    "First, we'll import the resampling module from Scikit-Learn:"
   ]
  },
  {
   "cell_type": "code",
   "execution_count": 4,
   "metadata": {},
   "outputs": [],
   "source": [
    "from sklearn.utils import resample"
   ]
  },
  {
   "cell_type": "markdown",
   "metadata": {},
   "source": [
    "Next, we'll create a new DataFrame with an up-sampled minority class and a down-sampled majority class. \n",
    "\n",
    "First, we'll separate observations from each class into different DataFrames, then we'll resample the minority and majority class with replacement. Finally, we'll combine the both sampled classes into a new DataFrame."
   ]
  },
  {
   "cell_type": "code",
   "execution_count": 5,
   "metadata": {},
   "outputs": [
    {
     "data": {
      "text/plain": [
       "0    35006\n",
       "1     6286\n",
       "Name: default, dtype: int64"
      ]
     },
     "execution_count": 5,
     "metadata": {},
     "output_type": "execute_result"
    }
   ],
   "source": [
    "df.default.value_counts()"
   ]
  },
  {
   "cell_type": "code",
   "execution_count": 6,
   "metadata": {
    "scrolled": true
   },
   "outputs": [
    {
     "data": {
      "text/plain": [
       "(1    20000\n",
       " Name: default, dtype: int64,\n",
       " 0    20000\n",
       " Name: default, dtype: int64)"
      ]
     },
     "execution_count": 6,
     "metadata": {},
     "output_type": "execute_result"
    }
   ],
   "source": [
    "# Separate majority and minority classes\n",
    "df_majority = df[df.default==0]\n",
    "df_minority = df[df.default==1]\n",
    "\n",
    "target_sample_size = 20000\n",
    "\n",
    "# Upsample minority class\n",
    "df_minority_upsampled = resample(df_minority, \n",
    "                                 replace=True,     # sample with replacement\n",
    "                                 n_samples=target_sample_size,    # to match majority class\n",
    "                                 random_state=random_state) # reproducible results\n",
    "\n",
    "# Upsample minority class\n",
    "df_majority_downsampled = resample(df_majority, \n",
    "                                 replace=True,     # sample with replacement\n",
    "                                 n_samples=target_sample_size,    # to match majority class\n",
    "                                 random_state=random_state) # reproducible results\n",
    "\n",
    "df_minority_upsampled.default.value_counts(),df_majority_downsampled.default.value_counts()"
   ]
  },
  {
   "cell_type": "code",
   "execution_count": 7,
   "metadata": {
    "scrolled": true
   },
   "outputs": [
    {
     "data": {
      "text/plain": [
       "1    20000\n",
       "0    20000\n",
       "Name: default, dtype: int64"
      ]
     },
     "execution_count": 7,
     "metadata": {},
     "output_type": "execute_result"
    }
   ],
   "source": [
    "# Combine majority class with upsampled minority class\n",
    "df_upsampled = pd.concat([df_majority_downsampled, df_minority_upsampled])\n",
    " \n",
    "# Display new class counts\n",
    "df_upsampled.default.value_counts()"
   ]
  },
  {
   "cell_type": "code",
   "execution_count": 8,
   "metadata": {
    "scrolled": true
   },
   "outputs": [
    {
     "data": {
      "text/html": [
       "<div>\n",
       "<style scoped>\n",
       "    .dataframe tbody tr th:only-of-type {\n",
       "        vertical-align: middle;\n",
       "    }\n",
       "\n",
       "    .dataframe tbody tr th {\n",
       "        vertical-align: top;\n",
       "    }\n",
       "\n",
       "    .dataframe thead th {\n",
       "        text-align: right;\n",
       "    }\n",
       "</style>\n",
       "<table border=\"1\" class=\"dataframe\">\n",
       "  <thead>\n",
       "    <tr style=\"text-align: right;\">\n",
       "      <th></th>\n",
       "      <th>loan_amnt</th>\n",
       "      <th>term_is_36</th>\n",
       "      <th>int_rate</th>\n",
       "      <th>grade</th>\n",
       "      <th>sub_grade</th>\n",
       "      <th>emp_length</th>\n",
       "      <th>annual_inc</th>\n",
       "      <th>purpose</th>\n",
       "      <th>addr_state</th>\n",
       "      <th>dti</th>\n",
       "      <th>inq_last_6mths</th>\n",
       "      <th>open_acc</th>\n",
       "      <th>pub_rec_bankruptcies</th>\n",
       "      <th>default</th>\n",
       "    </tr>\n",
       "  </thead>\n",
       "  <tbody>\n",
       "    <tr>\n",
       "      <th>18681</th>\n",
       "      <td>2100.0</td>\n",
       "      <td>1</td>\n",
       "      <td>0.1306</td>\n",
       "      <td>C</td>\n",
       "      <td>C2</td>\n",
       "      <td>4.0</td>\n",
       "      <td>72000.0</td>\n",
       "      <td>car</td>\n",
       "      <td>TX</td>\n",
       "      <td>0.1542</td>\n",
       "      <td>1.0</td>\n",
       "      <td>9.0</td>\n",
       "      <td>1</td>\n",
       "      <td>0</td>\n",
       "    </tr>\n",
       "    <tr>\n",
       "      <th>32785</th>\n",
       "      <td>8000.0</td>\n",
       "      <td>1</td>\n",
       "      <td>0.1496</td>\n",
       "      <td>D</td>\n",
       "      <td>D2</td>\n",
       "      <td>2.0</td>\n",
       "      <td>38000.0</td>\n",
       "      <td>debt_consolidation</td>\n",
       "      <td>NY</td>\n",
       "      <td>0.1033</td>\n",
       "      <td>1.0</td>\n",
       "      <td>14.0</td>\n",
       "      <td>0</td>\n",
       "      <td>0</td>\n",
       "    </tr>\n",
       "    <tr>\n",
       "      <th>20989</th>\n",
       "      <td>21250.0</td>\n",
       "      <td>1</td>\n",
       "      <td>0.0691</td>\n",
       "      <td>A</td>\n",
       "      <td>A5</td>\n",
       "      <td>10.0</td>\n",
       "      <td>51060.0</td>\n",
       "      <td>credit_card</td>\n",
       "      <td>IL</td>\n",
       "      <td>0.2456</td>\n",
       "      <td>0.0</td>\n",
       "      <td>5.0</td>\n",
       "      <td>0</td>\n",
       "      <td>0</td>\n",
       "    </tr>\n",
       "    <tr>\n",
       "      <th>18289</th>\n",
       "      <td>6000.0</td>\n",
       "      <td>1</td>\n",
       "      <td>0.1037</td>\n",
       "      <td>B</td>\n",
       "      <td>B3</td>\n",
       "      <td>4.0</td>\n",
       "      <td>40000.0</td>\n",
       "      <td>credit_card</td>\n",
       "      <td>CA</td>\n",
       "      <td>0.1992</td>\n",
       "      <td>1.0</td>\n",
       "      <td>19.0</td>\n",
       "      <td>0</td>\n",
       "      <td>0</td>\n",
       "    </tr>\n",
       "    <tr>\n",
       "      <th>9316</th>\n",
       "      <td>12000.0</td>\n",
       "      <td>1</td>\n",
       "      <td>0.0749</td>\n",
       "      <td>A</td>\n",
       "      <td>A4</td>\n",
       "      <td>0.0</td>\n",
       "      <td>60000.0</td>\n",
       "      <td>debt_consolidation</td>\n",
       "      <td>WA</td>\n",
       "      <td>0.1574</td>\n",
       "      <td>0.0</td>\n",
       "      <td>8.0</td>\n",
       "      <td>0</td>\n",
       "      <td>0</td>\n",
       "    </tr>\n",
       "  </tbody>\n",
       "</table>\n",
       "</div>"
      ],
      "text/plain": [
       "       loan_amnt  term_is_36  int_rate grade sub_grade  emp_length  \\\n",
       "18681     2100.0           1    0.1306     C        C2         4.0   \n",
       "32785     8000.0           1    0.1496     D        D2         2.0   \n",
       "20989    21250.0           1    0.0691     A        A5        10.0   \n",
       "18289     6000.0           1    0.1037     B        B3         4.0   \n",
       "9316     12000.0           1    0.0749     A        A4         0.0   \n",
       "\n",
       "       annual_inc             purpose addr_state     dti  inq_last_6mths  \\\n",
       "18681     72000.0                 car         TX  0.1542             1.0   \n",
       "32785     38000.0  debt_consolidation         NY  0.1033             1.0   \n",
       "20989     51060.0         credit_card         IL  0.2456             0.0   \n",
       "18289     40000.0         credit_card         CA  0.1992             1.0   \n",
       "9316      60000.0  debt_consolidation         WA  0.1574             0.0   \n",
       "\n",
       "       open_acc  pub_rec_bankruptcies  default  \n",
       "18681       9.0                     1        0  \n",
       "32785      14.0                     0        0  \n",
       "20989       5.0                     0        0  \n",
       "18289      19.0                     0        0  \n",
       "9316        8.0                     0        0  "
      ]
     },
     "execution_count": 8,
     "metadata": {},
     "output_type": "execute_result"
    }
   ],
   "source": [
    "df_upsampled.head()"
   ]
  },
  {
   "cell_type": "code",
   "execution_count": 9,
   "metadata": {},
   "outputs": [
    {
     "data": {
      "text/plain": [
       "(40000, 14)"
      ]
     },
     "execution_count": 9,
     "metadata": {},
     "output_type": "execute_result"
    }
   ],
   "source": [
    "df_upsampled.shape"
   ]
  },
  {
   "cell_type": "code",
   "execution_count": 10,
   "metadata": {},
   "outputs": [
    {
     "data": {
      "text/plain": [
       "Index(['loan_amnt', 'term_is_36', 'int_rate', 'grade', 'sub_grade',\n",
       "       'emp_length', 'annual_inc', 'purpose', 'addr_state', 'dti',\n",
       "       'inq_last_6mths', 'open_acc', 'pub_rec_bankruptcies', 'default'],\n",
       "      dtype='object')"
      ]
     },
     "execution_count": 10,
     "metadata": {},
     "output_type": "execute_result"
    }
   ],
   "source": [
    "df_upsampled.columns"
   ]
  },
  {
   "cell_type": "markdown",
   "metadata": {},
   "source": [
    "## Create Dummies"
   ]
  },
  {
   "cell_type": "code",
   "execution_count": 11,
   "metadata": {},
   "outputs": [],
   "source": [
    "cat_feats = ['grade','sub_grade','purpose','addr_state']"
   ]
  },
  {
   "cell_type": "code",
   "execution_count": 12,
   "metadata": {},
   "outputs": [],
   "source": [
    "df = df_upsampled.copy()"
   ]
  },
  {
   "cell_type": "code",
   "execution_count": 13,
   "metadata": {},
   "outputs": [],
   "source": [
    "df_final = pd.get_dummies(df, columns=cat_feats, drop_first=True)"
   ]
  },
  {
   "cell_type": "code",
   "execution_count": 14,
   "metadata": {},
   "outputs": [
    {
     "data": {
      "text/html": [
       "<div>\n",
       "<style scoped>\n",
       "    .dataframe tbody tr th:only-of-type {\n",
       "        vertical-align: middle;\n",
       "    }\n",
       "\n",
       "    .dataframe tbody tr th {\n",
       "        vertical-align: top;\n",
       "    }\n",
       "\n",
       "    .dataframe thead th {\n",
       "        text-align: right;\n",
       "    }\n",
       "</style>\n",
       "<table border=\"1\" class=\"dataframe\">\n",
       "  <thead>\n",
       "    <tr style=\"text-align: right;\">\n",
       "      <th></th>\n",
       "      <th>loan_amnt</th>\n",
       "      <th>term_is_36</th>\n",
       "      <th>int_rate</th>\n",
       "      <th>emp_length</th>\n",
       "      <th>annual_inc</th>\n",
       "      <th>dti</th>\n",
       "      <th>inq_last_6mths</th>\n",
       "      <th>open_acc</th>\n",
       "      <th>pub_rec_bankruptcies</th>\n",
       "      <th>default</th>\n",
       "      <th>...</th>\n",
       "      <th>addr_state_SD</th>\n",
       "      <th>addr_state_TN</th>\n",
       "      <th>addr_state_TX</th>\n",
       "      <th>addr_state_UT</th>\n",
       "      <th>addr_state_VA</th>\n",
       "      <th>addr_state_VT</th>\n",
       "      <th>addr_state_WA</th>\n",
       "      <th>addr_state_WI</th>\n",
       "      <th>addr_state_WV</th>\n",
       "      <th>addr_state_WY</th>\n",
       "    </tr>\n",
       "  </thead>\n",
       "  <tbody>\n",
       "    <tr>\n",
       "      <th>18681</th>\n",
       "      <td>2100.0</td>\n",
       "      <td>1</td>\n",
       "      <td>0.1306</td>\n",
       "      <td>4.0</td>\n",
       "      <td>72000.0</td>\n",
       "      <td>0.1542</td>\n",
       "      <td>1.0</td>\n",
       "      <td>9.0</td>\n",
       "      <td>1</td>\n",
       "      <td>0</td>\n",
       "      <td>...</td>\n",
       "      <td>0</td>\n",
       "      <td>0</td>\n",
       "      <td>1</td>\n",
       "      <td>0</td>\n",
       "      <td>0</td>\n",
       "      <td>0</td>\n",
       "      <td>0</td>\n",
       "      <td>0</td>\n",
       "      <td>0</td>\n",
       "      <td>0</td>\n",
       "    </tr>\n",
       "    <tr>\n",
       "      <th>32785</th>\n",
       "      <td>8000.0</td>\n",
       "      <td>1</td>\n",
       "      <td>0.1496</td>\n",
       "      <td>2.0</td>\n",
       "      <td>38000.0</td>\n",
       "      <td>0.1033</td>\n",
       "      <td>1.0</td>\n",
       "      <td>14.0</td>\n",
       "      <td>0</td>\n",
       "      <td>0</td>\n",
       "      <td>...</td>\n",
       "      <td>0</td>\n",
       "      <td>0</td>\n",
       "      <td>0</td>\n",
       "      <td>0</td>\n",
       "      <td>0</td>\n",
       "      <td>0</td>\n",
       "      <td>0</td>\n",
       "      <td>0</td>\n",
       "      <td>0</td>\n",
       "      <td>0</td>\n",
       "    </tr>\n",
       "    <tr>\n",
       "      <th>20989</th>\n",
       "      <td>21250.0</td>\n",
       "      <td>1</td>\n",
       "      <td>0.0691</td>\n",
       "      <td>10.0</td>\n",
       "      <td>51060.0</td>\n",
       "      <td>0.2456</td>\n",
       "      <td>0.0</td>\n",
       "      <td>5.0</td>\n",
       "      <td>0</td>\n",
       "      <td>0</td>\n",
       "      <td>...</td>\n",
       "      <td>0</td>\n",
       "      <td>0</td>\n",
       "      <td>0</td>\n",
       "      <td>0</td>\n",
       "      <td>0</td>\n",
       "      <td>0</td>\n",
       "      <td>0</td>\n",
       "      <td>0</td>\n",
       "      <td>0</td>\n",
       "      <td>0</td>\n",
       "    </tr>\n",
       "    <tr>\n",
       "      <th>18289</th>\n",
       "      <td>6000.0</td>\n",
       "      <td>1</td>\n",
       "      <td>0.1037</td>\n",
       "      <td>4.0</td>\n",
       "      <td>40000.0</td>\n",
       "      <td>0.1992</td>\n",
       "      <td>1.0</td>\n",
       "      <td>19.0</td>\n",
       "      <td>0</td>\n",
       "      <td>0</td>\n",
       "      <td>...</td>\n",
       "      <td>0</td>\n",
       "      <td>0</td>\n",
       "      <td>0</td>\n",
       "      <td>0</td>\n",
       "      <td>0</td>\n",
       "      <td>0</td>\n",
       "      <td>0</td>\n",
       "      <td>0</td>\n",
       "      <td>0</td>\n",
       "      <td>0</td>\n",
       "    </tr>\n",
       "    <tr>\n",
       "      <th>9316</th>\n",
       "      <td>12000.0</td>\n",
       "      <td>1</td>\n",
       "      <td>0.0749</td>\n",
       "      <td>0.0</td>\n",
       "      <td>60000.0</td>\n",
       "      <td>0.1574</td>\n",
       "      <td>0.0</td>\n",
       "      <td>8.0</td>\n",
       "      <td>0</td>\n",
       "      <td>0</td>\n",
       "      <td>...</td>\n",
       "      <td>0</td>\n",
       "      <td>0</td>\n",
       "      <td>0</td>\n",
       "      <td>0</td>\n",
       "      <td>0</td>\n",
       "      <td>0</td>\n",
       "      <td>1</td>\n",
       "      <td>0</td>\n",
       "      <td>0</td>\n",
       "      <td>0</td>\n",
       "    </tr>\n",
       "  </tbody>\n",
       "</table>\n",
       "<p>5 rows × 112 columns</p>\n",
       "</div>"
      ],
      "text/plain": [
       "       loan_amnt  term_is_36  int_rate  emp_length  annual_inc     dti  \\\n",
       "18681     2100.0           1    0.1306         4.0     72000.0  0.1542   \n",
       "32785     8000.0           1    0.1496         2.0     38000.0  0.1033   \n",
       "20989    21250.0           1    0.0691        10.0     51060.0  0.2456   \n",
       "18289     6000.0           1    0.1037         4.0     40000.0  0.1992   \n",
       "9316     12000.0           1    0.0749         0.0     60000.0  0.1574   \n",
       "\n",
       "       inq_last_6mths  open_acc  pub_rec_bankruptcies  default  ...  \\\n",
       "18681             1.0       9.0                     1        0  ...   \n",
       "32785             1.0      14.0                     0        0  ...   \n",
       "20989             0.0       5.0                     0        0  ...   \n",
       "18289             1.0      19.0                     0        0  ...   \n",
       "9316              0.0       8.0                     0        0  ...   \n",
       "\n",
       "       addr_state_SD  addr_state_TN  addr_state_TX  addr_state_UT  \\\n",
       "18681              0              0              1              0   \n",
       "32785              0              0              0              0   \n",
       "20989              0              0              0              0   \n",
       "18289              0              0              0              0   \n",
       "9316               0              0              0              0   \n",
       "\n",
       "       addr_state_VA  addr_state_VT  addr_state_WA  addr_state_WI  \\\n",
       "18681              0              0              0              0   \n",
       "32785              0              0              0              0   \n",
       "20989              0              0              0              0   \n",
       "18289              0              0              0              0   \n",
       "9316               0              0              1              0   \n",
       "\n",
       "       addr_state_WV  addr_state_WY  \n",
       "18681              0              0  \n",
       "32785              0              0  \n",
       "20989              0              0  \n",
       "18289              0              0  \n",
       "9316               0              0  \n",
       "\n",
       "[5 rows x 112 columns]"
      ]
     },
     "execution_count": 14,
     "metadata": {},
     "output_type": "execute_result"
    }
   ],
   "source": [
    "df_final.head()"
   ]
  },
  {
   "cell_type": "code",
   "execution_count": 15,
   "metadata": {},
   "outputs": [
    {
     "data": {
      "text/plain": [
       "(40000, 112)"
      ]
     },
     "execution_count": 15,
     "metadata": {},
     "output_type": "execute_result"
    }
   ],
   "source": [
    "df_final.shape"
   ]
  },
  {
   "cell_type": "markdown",
   "metadata": {},
   "source": [
    "## Train Test Split"
   ]
  },
  {
   "cell_type": "code",
   "execution_count": 16,
   "metadata": {},
   "outputs": [],
   "source": [
    "from sklearn.model_selection import train_test_split\n",
    "\n",
    "X = df_final.drop('default', axis=1)\n",
    "y = df_final['default']\n",
    "\n",
    "X_train, X_test, y_train, y_test = train_test_split(X, y, test_size=0.3, random_state=random_state)"
   ]
  },
  {
   "cell_type": "markdown",
   "metadata": {},
   "source": [
    "# Scaling"
   ]
  },
  {
   "cell_type": "code",
   "execution_count": 17,
   "metadata": {},
   "outputs": [
    {
     "name": "stderr",
     "output_type": "stream",
     "text": [
      "/Users/jonasbechthold/opt/anaconda3/envs/nf/lib/python3.6/site-packages/pandas/core/frame.py:3391: SettingWithCopyWarning: \n",
      "A value is trying to be set on a copy of a slice from a DataFrame.\n",
      "Try using .loc[row_indexer,col_indexer] = value instead\n",
      "\n",
      "See the caveats in the documentation: http://pandas.pydata.org/pandas-docs/stable/indexing.html#indexing-view-versus-copy\n",
      "  self[k1] = value[k2]\n",
      "/Users/jonasbechthold/opt/anaconda3/envs/nf/lib/python3.6/site-packages/ipykernel_launcher.py:14: SettingWithCopyWarning: \n",
      "A value is trying to be set on a copy of a slice from a DataFrame.\n",
      "Try using .loc[row_indexer,col_indexer] = value instead\n",
      "\n",
      "See the caveats in the documentation: http://pandas.pydata.org/pandas-docs/stable/indexing.html#indexing-view-versus-copy\n",
      "  \n",
      "/Users/jonasbechthold/opt/anaconda3/envs/nf/lib/python3.6/site-packages/pandas/core/indexing.py:543: SettingWithCopyWarning: \n",
      "A value is trying to be set on a copy of a slice from a DataFrame.\n",
      "Try using .loc[row_indexer,col_indexer] = value instead\n",
      "\n",
      "See the caveats in the documentation: http://pandas.pydata.org/pandas-docs/stable/indexing.html#indexing-view-versus-copy\n",
      "  self.obj[item] = s\n",
      "/Users/jonasbechthold/opt/anaconda3/envs/nf/lib/python3.6/site-packages/pandas/core/frame.py:3391: SettingWithCopyWarning: \n",
      "A value is trying to be set on a copy of a slice from a DataFrame.\n",
      "Try using .loc[row_indexer,col_indexer] = value instead\n",
      "\n",
      "See the caveats in the documentation: http://pandas.pydata.org/pandas-docs/stable/indexing.html#indexing-view-versus-copy\n",
      "  self[k1] = value[k2]\n",
      "/Users/jonasbechthold/opt/anaconda3/envs/nf/lib/python3.6/site-packages/ipykernel_launcher.py:18: SettingWithCopyWarning: \n",
      "A value is trying to be set on a copy of a slice from a DataFrame.\n",
      "Try using .loc[row_indexer,col_indexer] = value instead\n",
      "\n",
      "See the caveats in the documentation: http://pandas.pydata.org/pandas-docs/stable/indexing.html#indexing-view-versus-copy\n",
      "/Users/jonasbechthold/opt/anaconda3/envs/nf/lib/python3.6/site-packages/pandas/core/indexing.py:543: SettingWithCopyWarning: \n",
      "A value is trying to be set on a copy of a slice from a DataFrame.\n",
      "Try using .loc[row_indexer,col_indexer] = value instead\n",
      "\n",
      "See the caveats in the documentation: http://pandas.pydata.org/pandas-docs/stable/indexing.html#indexing-view-versus-copy\n",
      "  self.obj[item] = s\n"
     ]
    }
   ],
   "source": [
    "from sklearn.preprocessing import StandardScaler, MinMaxScaler\n",
    "\n",
    "scaler = StandardScaler()\n",
    "\n",
    "scaling_list = [\"dti\", \"int_rate\", \"loan_amnt\",\"annual_inc\"]\n",
    "scaling_min_max = [\"annual_inc\"]\n",
    "\n",
    "def logarithmize(value):\n",
    "    logvalue = np.log(value)\n",
    "    return logvalue\n",
    "\n",
    "# scaling train\n",
    "X_train[scaling_min_max] = X_train[scaling_min_max].apply(lambda x: logarithmize(x))\n",
    "X_train[scaling_list] = scaler.fit_transform(X_train[scaling_list])\n",
    "\n",
    "# scaling test with same scaling parameters\n",
    "X_test[scaling_min_max] = X_test[scaling_min_max].apply(lambda x: logarithmize(x))\n",
    "X_test[scaling_list] = scaler.transform(X_test[scaling_list])"
   ]
  },
  {
   "cell_type": "code",
   "execution_count": 18,
   "metadata": {},
   "outputs": [
    {
     "data": {
      "text/plain": [
       "<AxesSubplot:>"
      ]
     },
     "execution_count": 18,
     "metadata": {},
     "output_type": "execute_result"
    },
    {
     "data": {
      "image/png": "[encoded data removed]",
      "text/plain": [
       "<Figure size 432x288 with 1 Axes>"
      ]
     },
     "metadata": {
      "needs_background": "light"
     },
     "output_type": "display_data"
    }
   ],
   "source": [
    "X_train.annual_inc.hist(bins=100)"
   ]
  },
  {
   "cell_type": "code",
   "execution_count": 19,
   "metadata": {
    "scrolled": true
   },
   "outputs": [
    {
     "data": {
      "text/plain": [
       "<AxesSubplot:>"
      ]
     },
     "execution_count": 19,
     "metadata": {},
     "output_type": "execute_result"
    },
    {
     "data": {
      "image/png": "[encoded data removed]",
      "text/plain": [
       "<Figure size 432x288 with 1 Axes>"
      ]
     },
     "metadata": {
      "needs_background": "light"
     },
     "output_type": "display_data"
    }
   ],
   "source": [
    "X_train.dti.hist(bins=100)"
   ]
  },
  {
   "cell_type": "code",
   "execution_count": 20,
   "metadata": {},
   "outputs": [
    {
     "data": {
      "text/plain": [
       "<AxesSubplot:>"
      ]
     },
     "execution_count": 20,
     "metadata": {},
     "output_type": "execute_result"
    },
    {
     "data": {
      "image/png": "[encoded data removed]",
      "text/plain": [
       "<Figure size 432x288 with 1 Axes>"
      ]
     },
     "metadata": {
      "needs_background": "light"
     },
     "output_type": "display_data"
    }
   ],
   "source": [
    "X_train.int_rate.hist(bins=100)"
   ]
  },
  {
   "cell_type": "code",
   "execution_count": 21,
   "metadata": {},
   "outputs": [
    {
     "data": {
      "text/plain": [
       "<AxesSubplot:>"
      ]
     },
     "execution_count": 21,
     "metadata": {},
     "output_type": "execute_result"
    },
    {
     "data": {
      "image/png": "[encoded data removed]",
      "text/plain": [
       "<Figure size 432x288 with 1 Axes>"
      ]
     },
     "metadata": {
      "needs_background": "light"
     },
     "output_type": "display_data"
    }
   ],
   "source": [
    "X_train.loan_amnt.hist(bins=100)"
   ]
  },
  {
   "cell_type": "markdown",
   "metadata": {},
   "source": [
    "# Random Forest"
   ]
  },
  {
   "cell_type": "code",
   "execution_count": 31,
   "metadata": {},
   "outputs": [],
   "source": [
    "from sklearn.ensemble import RandomForestClassifier"
   ]
  },
  {
   "cell_type": "code",
   "execution_count": 32,
   "metadata": {},
   "outputs": [],
   "source": [
    "rnc = RandomForestClassifier()"
   ]
  },
  {
   "cell_type": "code",
   "execution_count": 33,
   "metadata": {},
   "outputs": [
    {
     "data": {
      "text/plain": [
       "RandomForestClassifier()"
      ]
     },
     "execution_count": 33,
     "metadata": {},
     "output_type": "execute_result"
    }
   ],
   "source": [
    "rnc.fit(X_train, y_train)"
   ]
  },
  {
   "cell_type": "code",
   "execution_count": 34,
   "metadata": {},
   "outputs": [],
   "source": [
    "pred_train = rnc.predict(X_train)"
   ]
  },
  {
   "cell_type": "code",
   "execution_count": 35,
   "metadata": {},
   "outputs": [],
   "source": [
    "pred_test = rnc.predict(X_test)"
   ]
  },
  {
   "cell_type": "code",
   "execution_count": 36,
   "metadata": {},
   "outputs": [
    {
     "name": "stdout",
     "output_type": "stream",
     "text": [
      "              precision    recall  f1-score   support\n",
      "\n",
      "           0       1.00      1.00      1.00     13946\n",
      "           1       1.00      1.00      1.00     14054\n",
      "\n",
      "    accuracy                           1.00     28000\n",
      "   macro avg       1.00      1.00      1.00     28000\n",
      "weighted avg       1.00      1.00      1.00     28000\n",
      "\n"
     ]
    }
   ],
   "source": [
    "print(classification_report(y_train, pred_train))"
   ]
  },
  {
   "cell_type": "code",
   "execution_count": 37,
   "metadata": {},
   "outputs": [
    {
     "name": "stdout",
     "output_type": "stream",
     "text": [
      "[[13946     0]\n",
      " [    0 14054]]\n"
     ]
    }
   ],
   "source": [
    "print(confusion_matrix(y_train, pred_train))"
   ]
  },
  {
   "cell_type": "code",
   "execution_count": 38,
   "metadata": {},
   "outputs": [
    {
     "name": "stdout",
     "output_type": "stream",
     "text": [
      "              precision    recall  f1-score   support\n",
      "\n",
      "           0       0.93      0.88      0.91      6054\n",
      "           1       0.89      0.94      0.91      5946\n",
      "\n",
      "    accuracy                           0.91     12000\n",
      "   macro avg       0.91      0.91      0.91     12000\n",
      "weighted avg       0.91      0.91      0.91     12000\n",
      "\n"
     ]
    }
   ],
   "source": [
    "print(classification_report(y_test, pred_test))"
   ]
  },
  {
   "cell_type": "code",
   "execution_count": 39,
   "metadata": {
    "scrolled": true
   },
   "outputs": [
    {
     "name": "stdout",
     "output_type": "stream",
     "text": [
      "[[5345  709]\n",
      " [ 379 5567]]\n"
     ]
    }
   ],
   "source": [
    "print(confusion_matrix(y_test, pred_test))"
   ]
  },
  {
   "cell_type": "markdown",
   "metadata": {},
   "source": [
    "## Random Forest with Stacking - Future Work"
   ]
  },
  {
   "cell_type": "code",
   "execution_count": null,
   "metadata": {
    "scrolled": true
   },
   "outputs": [],
   "source": [
    "from sklearn.ensemble import StackingClassifier\n",
    "\n",
    "clf = StackingClassifier(RandomForestClassifier(random_state=random_state))\n",
    "\n",
    "clf.fit(X_train, y_train)"
   ]
  },
  {
   "cell_type": "markdown",
   "metadata": {},
   "source": [
    "## Random Forest Optimization through RandomizedSearchCV"
   ]
  },
  {
   "cell_type": "code",
   "execution_count": 70,
   "metadata": {},
   "outputs": [
    {
     "name": "stderr",
     "output_type": "stream",
     "text": [
      "[Parallel(n_jobs=-1)]: Using backend LokyBackend with 8 concurrent workers.\n",
      "[Parallel(n_jobs=-1)]: Done  56 tasks      | elapsed:  4.8min\n",
      "[Parallel(n_jobs=-1)]: Done 250 out of 250 | elapsed: 36.7min finished\n"
     ]
    }
   ],
   "source": [
    "from sklearn.model_selection import RandomizedSearchCV\n",
    "\n",
    "# Hyperparameter grid\n",
    "param_grid = {\n",
    "    'n_estimators': np.linspace(10, 500,50).astype(int),\n",
    "    'max_depth': [None] + list(np.linspace(3, 100).astype(int)),\n",
    "    'max_features': ['auto', 'sqrt', None],\n",
    "    'bootstrap': [True, False]\n",
    "}\n",
    "\n",
    "# Estimator for use in random search\n",
    "estimator = RandomForestClassifier(random_state=random_state)\n",
    "\n",
    "# Create the random search model\n",
    "rnc = RandomizedSearchCV(estimator, param_grid, n_jobs = -1, \n",
    "                        scoring = 'f1', cv = 5, \n",
    "                        n_iter = 50, verbose = -1)\n",
    "\n",
    "# Fit \n",
    "rnc.fit(X_train, y_train)\n",
    "best_model = rnc.best_estimator_"
   ]
  },
  {
   "cell_type": "code",
   "execution_count": 71,
   "metadata": {},
   "outputs": [
    {
     "name": "stdout",
     "output_type": "stream",
     "text": [
      "{'n_estimators': 240, 'max_features': 'sqrt', 'max_depth': 88, 'bootstrap': False}\n",
      "0.8919803157797664\n"
     ]
    }
   ],
   "source": [
    "print(rnc.best_params_)\n",
    "print(rnc.best_score_)"
   ]
  },
  {
   "cell_type": "code",
   "execution_count": 68,
   "metadata": {},
   "outputs": [
    {
     "name": "stdout",
     "output_type": "stream",
     "text": [
      "{'n_estimators': 270, 'max_features': 'auto', 'max_depth': 88, 'bootstrap': False}\n",
      "0.8913923346742287\n"
     ]
    }
   ],
   "source": [
    "train_rf_predictions = best_model.predict(X_train)\n",
    "train_rf_probs = best_model.predict_proba(X_train)[:, 1]\n",
    "\n",
    "rf_predictions = best_model.predict(X_test)\n",
    "rf_probs = best_model.predict_proba(X_test)[:, 1]"
   ]
  },
  {
   "cell_type": "code",
   "execution_count": 48,
   "metadata": {},
   "outputs": [],
   "source": [
    "best_pred_train = best_model.predict(X_train)"
   ]
  },
  {
   "cell_type": "code",
   "execution_count": 49,
   "metadata": {},
   "outputs": [],
   "source": [
    "best_pred_test = rnc.predict(X_test)"
   ]
  },
  {
   "cell_type": "code",
   "execution_count": 50,
   "metadata": {},
   "outputs": [
    {
     "name": "stdout",
     "output_type": "stream",
     "text": [
      "              precision    recall  f1-score   support\n",
      "\n",
      "           0       1.00      1.00      1.00     13946\n",
      "           1       1.00      1.00      1.00     14054\n",
      "\n",
      "    accuracy                           1.00     28000\n",
      "   macro avg       1.00      1.00      1.00     28000\n",
      "weighted avg       1.00      1.00      1.00     28000\n",
      "\n"
     ]
    }
   ],
   "source": [
    "print(classification_report(y_train, best_pred_train))"
   ]
  },
  {
   "cell_type": "code",
   "execution_count": 52,
   "metadata": {},
   "outputs": [
    {
     "name": "stdout",
     "output_type": "stream",
     "text": [
      "[[13946     0]\n",
      " [    0 14054]]\n"
     ]
    }
   ],
   "source": [
    "print(confusion_matrix(y_train, best_pred_train))"
   ]
  },
  {
   "cell_type": "code",
   "execution_count": 53,
   "metadata": {},
   "outputs": [
    {
     "name": "stdout",
     "output_type": "stream",
     "text": [
      "              precision    recall  f1-score   support\n",
      "\n",
      "           0       0.93      0.80      0.86      6054\n",
      "           1       0.82      0.94      0.87      5946\n",
      "\n",
      "    accuracy                           0.87     12000\n",
      "   macro avg       0.87      0.87      0.87     12000\n",
      "weighted avg       0.87      0.87      0.87     12000\n",
      "\n"
     ]
    }
   ],
   "source": [
    "print(classification_report(y_test, best_pred_test))"
   ]
  },
  {
   "cell_type": "code",
   "execution_count": 54,
   "metadata": {
    "scrolled": true
   },
   "outputs": [
    {
     "name": "stdout",
     "output_type": "stream",
     "text": [
      "[[4835 1219]\n",
      " [ 376 5570]]\n"
     ]
    }
   ],
   "source": [
    "print(confusion_matrix(y_test, best_pred_test))"
   ]
  },
  {
   "cell_type": "code",
   "execution_count": 55,
   "metadata": {
    "scrolled": true
   },
   "outputs": [
    {
     "name": "stdout",
     "output_type": "stream",
     "text": [
      "Average number of nodes 8082\n",
      "Average maximum depth 45\n"
     ]
    }
   ],
   "source": [
    "n_nodes = []\n",
    "max_depths = []\n",
    "\n",
    "for ind_tree in best_model.estimators_:\n",
    "    n_nodes.append(ind_tree.tree_.node_count)\n",
    "    max_depths.append(ind_tree.tree_.max_depth)\n",
    "    \n",
    "print(f'Average number of nodes {int(np.mean(n_nodes))}')\n",
    "print(f'Average maximum depth {int(np.mean(max_depths))}')"
   ]
  },
  {
   "cell_type": "markdown",
   "metadata": {},
   "source": [
    "## Random Forest with optimized parameter - Score Recall"
   ]
  },
  {
   "cell_type": "markdown",
   "metadata": {},
   "source": [
    "The best prameter of the optimization are the following:"
   ]
  },
  {
   "cell_type": "markdown",
   "metadata": {},
   "source": [
    "{'n_estimators': 160, 'max_features': None, 'max_depth': 68, 'bootstrap': False}"
   ]
  },
  {
   "cell_type": "code",
   "execution_count": 104,
   "metadata": {},
   "outputs": [
    {
     "name": "stdout",
     "output_type": "stream",
     "text": [
      "              precision    recall  f1-score   support\n",
      "\n",
      "           0       1.00      1.00      1.00     13946\n",
      "           1       1.00      1.00      1.00     14054\n",
      "\n",
      "    accuracy                           1.00     28000\n",
      "   macro avg       1.00      1.00      1.00     28000\n",
      "weighted avg       1.00      1.00      1.00     28000\n",
      "\n",
      "[[13946     0]\n",
      " [    0 14054]]\n",
      "              precision    recall  f1-score   support\n",
      "\n",
      "           0       0.93      0.80      0.86      6054\n",
      "           1       0.82      0.94      0.88      5946\n",
      "\n",
      "    accuracy                           0.87     12000\n",
      "   macro avg       0.88      0.87      0.87     12000\n",
      "weighted avg       0.88      0.87      0.87     12000\n",
      "\n",
      "[[4854 1200]\n",
      " [ 376 5570]]\n"
     ]
    }
   ],
   "source": [
    "rnc_opt = RandomForestClassifier(n_estimators=160, max_features=None,max_depth=68,bootstrap=False)\n",
    "rnc_opt.fit(X_train,y_train)\n",
    "\n",
    "opt_pred_train = rnc_opt.predict(X_train)\n",
    "opt_pred_test = rnc_opt.predict(X_test)\n",
    "\n",
    "print(classification_report(y_train, opt_pred_train))\n",
    "\n",
    "print(confusion_matrix(y_train,opt_pred_train))\n",
    "\n",
    "print(classification_report(y_test, opt_pred_test))\n",
    "\n",
    "print(confusion_matrix(y_test, opt_pred_test))"
   ]
  },
  {
   "cell_type": "code",
   "execution_count": 111,
   "metadata": {},
   "outputs": [
    {
     "name": "stdout",
     "output_type": "stream",
     "text": [
      "Confusion matrix train\n",
      "[[13946     0]\n",
      " [    0 14054]]\n",
      "Classification report train\n",
      "              precision    recall  f1-score   support\n",
      "\n",
      "           0       1.00      1.00      1.00     13946\n",
      "           1       1.00      1.00      1.00     14054\n",
      "\n",
      "    accuracy                           1.00     28000\n",
      "   macro avg       1.00      1.00      1.00     28000\n",
      "weighted avg       1.00      1.00      1.00     28000\n",
      "\n"
     ]
    },
    {
     "data": {
      "image/png": "[encoded data removed]",
      "text/plain": [
       "<Figure size 432x288 with 2 Axes>"
      ]
     },
     "metadata": {},
     "output_type": "display_data"
    },
    {
     "name": "stdout",
     "output_type": "stream",
     "text": [
      "Confusion matrix test\n",
      "[[4854 1200]\n",
      " [ 376 5570]]\n",
      "Classification report test\n",
      "              precision    recall  f1-score   support\n",
      "\n",
      "           0       0.93      0.80      0.86      6054\n",
      "           1       0.82      0.94      0.88      5946\n",
      "\n",
      "    accuracy                           0.87     12000\n",
      "   macro avg       0.88      0.87      0.87     12000\n",
      "weighted avg       0.88      0.87      0.87     12000\n",
      "\n"
     ]
    },
    {
     "data": {
      "image/png": "[encoded data removed]",
      "text/plain": [
       "<Figure size 432x288 with 2 Axes>"
      ]
     },
     "metadata": {},
     "output_type": "display_data"
    }
   ],
   "source": [
    "scores(y_train, y_test, opt_pred_train, opt_pred_test, filename='random_forest_recall_focus')"
   ]
  },
  {
   "cell_type": "markdown",
   "metadata": {},
   "source": [
    "## Random Forest with optimized parameter - Score F1"
   ]
  },
  {
   "cell_type": "markdown",
   "metadata": {},
   "source": [
    "The best prameter of the optimization are the following:"
   ]
  },
  {
   "cell_type": "markdown",
   "metadata": {},
   "source": [
    "{'n_estimators': 270, 'max_features': 'auto', 'max_depth': 88, 'bootstrap': False}"
   ]
  },
  {
   "cell_type": "code",
   "execution_count": 69,
   "metadata": {
    "scrolled": false
   },
   "outputs": [
    {
     "name": "stdout",
     "output_type": "stream",
     "text": [
      "              precision    recall  f1-score   support\n",
      "\n",
      "           0       1.00      1.00      1.00     13946\n",
      "           1       1.00      1.00      1.00     14054\n",
      "\n",
      "    accuracy                           1.00     28000\n",
      "   macro avg       1.00      1.00      1.00     28000\n",
      "weighted avg       1.00      1.00      1.00     28000\n",
      "\n",
      "[[13946     0]\n",
      " [    0 14054]]\n",
      "              precision    recall  f1-score   support\n",
      "\n",
      "           0       0.93      0.92      0.93      6054\n",
      "           1       0.92      0.93      0.93      5946\n",
      "\n",
      "    accuracy                           0.93     12000\n",
      "   macro avg       0.93      0.93      0.93     12000\n",
      "weighted avg       0.93      0.93      0.93     12000\n",
      "\n",
      "[[5591  463]\n",
      " [ 431 5515]]\n"
     ]
    }
   ],
   "source": [
    "rnc_opt = RandomForestClassifier(n_estimators=270, max_features='auto',max_depth=88,bootstrap=False)\n",
    "rnc_opt.fit(X_train,y_train)\n",
    "\n",
    "opt_pred_train = rnc_opt.predict(X_train)\n",
    "opt_pred_test = rnc_opt.predict(X_test)\n",
    "\n",
    "print(classification_report(y_train, opt_pred_train))\n",
    "\n",
    "print(confusion_matrix(y_train,opt_pred_train))\n",
    "\n",
    "print(classification_report(y_test, opt_pred_test))\n",
    "\n",
    "print(confusion_matrix(y_test, opt_pred_test))"
   ]
  },
  {
   "cell_type": "markdown",
   "metadata": {},
   "source": [
    "# XGBoost\n"
   ]
  },
  {
   "cell_type": "code",
   "execution_count": 72,
   "metadata": {},
   "outputs": [],
   "source": [
    "from xgboost import XGBClassifier"
   ]
  },
  {
   "cell_type": "code",
   "execution_count": 73,
   "metadata": {},
   "outputs": [
    {
     "data": {
      "text/plain": [
       "XGBClassifier()"
      ]
     },
     "execution_count": 73,
     "metadata": {},
     "output_type": "execute_result"
    }
   ],
   "source": [
    "model = XGBClassifier()\n",
    "model.fit(X_train, y_train)"
   ]
  },
  {
   "cell_type": "code",
   "execution_count": 74,
   "metadata": {},
   "outputs": [],
   "source": [
    "y_pred = model.predict(X_test)\n",
    "y_pred_train = model.predict(X_train)"
   ]
  },
  {
   "cell_type": "code",
   "execution_count": 75,
   "metadata": {},
   "outputs": [
    {
     "name": "stdout",
     "output_type": "stream",
     "text": [
      "[[3994 2060]\n",
      " [1836 4110]]\n"
     ]
    }
   ],
   "source": [
    "print(confusion_matrix(y_test, y_pred))"
   ]
  },
  {
   "cell_type": "code",
   "execution_count": 76,
   "metadata": {},
   "outputs": [
    {
     "name": "stdout",
     "output_type": "stream",
     "text": [
      "              precision    recall  f1-score   support\n",
      "\n",
      "           0       0.69      0.66      0.67      6054\n",
      "           1       0.67      0.69      0.68      5946\n",
      "\n",
      "    accuracy                           0.68     12000\n",
      "   macro avg       0.68      0.68      0.68     12000\n",
      "weighted avg       0.68      0.68      0.68     12000\n",
      "\n"
     ]
    }
   ],
   "source": [
    "print(classification_report(y_test, y_pred))"
   ]
  },
  {
   "cell_type": "code",
   "execution_count": 77,
   "metadata": {},
   "outputs": [
    {
     "name": "stdout",
     "output_type": "stream",
     "text": [
      "[[9291 4655]\n",
      " [4373 9681]]\n"
     ]
    }
   ],
   "source": [
    "print(confusion_matrix(y_train, y_pred_train))"
   ]
  },
  {
   "cell_type": "code",
   "execution_count": 78,
   "metadata": {
    "scrolled": true
   },
   "outputs": [
    {
     "name": "stdout",
     "output_type": "stream",
     "text": [
      "              precision    recall  f1-score   support\n",
      "\n",
      "           0       0.68      0.67      0.67     13946\n",
      "           1       0.68      0.69      0.68     14054\n",
      "\n",
      "    accuracy                           0.68     28000\n",
      "   macro avg       0.68      0.68      0.68     28000\n",
      "weighted avg       0.68      0.68      0.68     28000\n",
      "\n"
     ]
    }
   ],
   "source": [
    "print(classification_report(y_train, y_pred_train))"
   ]
  },
  {
   "cell_type": "markdown",
   "metadata": {},
   "source": [
    "## XGBoost Optimization through Randomized SearchCV"
   ]
  },
  {
   "cell_type": "code",
   "execution_count": 79,
   "metadata": {},
   "outputs": [
    {
     "name": "stderr",
     "output_type": "stream",
     "text": [
      "[Parallel(n_jobs=-1)]: Using backend LokyBackend with 8 concurrent workers.\n",
      "[Parallel(n_jobs=-1)]: Done  56 tasks      | elapsed: 20.2min\n",
      "[Parallel(n_jobs=-1)]: Done 100 out of 100 | elapsed: 37.1min finished\n"
     ]
    },
    {
     "name": "stdout",
     "output_type": "stream",
     "text": [
      "Best score: 0.8738027006433452\n",
      "Best params: \n",
      "learning_rate: 0.18373847549667507\n",
      "max_depth: 9\n",
      "n_estimators: 927\n"
     ]
    }
   ],
   "source": [
    "from scipy import stats\n",
    "from scipy.stats import randint\n",
    "from sklearn.model_selection import KFold, StratifiedKFold, cross_validate, cross_val_score\n",
    "from sklearn.model_selection import RandomizedSearchCV\n",
    "\n",
    "clf_xgb = XGBClassifier()\n",
    "\n",
    "param_dist = {'n_estimators': stats.randint(150, 1000),\n",
    "              'learning_rate': stats.uniform(0.01, 0.6),\n",
    "              'max_depth': [3, 4, 5, 6, 7, 8, 9, 10],\n",
    "             }\n",
    "\n",
    "clf = RandomizedSearchCV(clf_xgb, \n",
    "                         param_distributions = param_dist,\n",
    "                         cv = 5,  \n",
    "                         n_iter = 20,\n",
    "                         scoring = 'f1', \n",
    "                         error_score = 0, \n",
    "                         verbose = -1, \n",
    "                         n_jobs = -1)\n",
    "\n",
    "clf.fit(X_train, y_train)\n",
    "\n",
    "best_score = clf.best_score_\n",
    "best_params = clf.best_params_\n",
    "print(\"Best score: {}\".format(best_score))\n",
    "print(\"Best params: \")\n",
    "for param_name in sorted(best_params.keys()):\n",
    "    print('%s: %r' % (param_name, best_params[param_name]))"
   ]
  },
  {
   "cell_type": "markdown",
   "metadata": {},
   "source": [
    "## XGBoost with optimized parameter - Score F1"
   ]
  },
  {
   "cell_type": "markdown",
   "metadata": {},
   "source": [
    "The best prameter of the optimization are the following:"
   ]
  },
  {
   "cell_type": "markdown",
   "metadata": {},
   "source": [
    "{'learning_rate': 0.18373847549667507, 'max_depth': 9, 'n_estimators': 927}"
   ]
  },
  {
   "cell_type": "code",
   "execution_count": 81,
   "metadata": {
    "scrolled": false
   },
   "outputs": [
    {
     "name": "stdout",
     "output_type": "stream",
     "text": [
      "              precision    recall  f1-score   support\n",
      "\n",
      "           0       1.00      1.00      1.00     13946\n",
      "           1       1.00      1.00      1.00     14054\n",
      "\n",
      "    accuracy                           1.00     28000\n",
      "   macro avg       1.00      1.00      1.00     28000\n",
      "weighted avg       1.00      1.00      1.00     28000\n",
      "\n",
      "[[13946     0]\n",
      " [    0 14054]]\n",
      "              precision    recall  f1-score   support\n",
      "\n",
      "           0       0.93      0.86      0.90      6054\n",
      "           1       0.87      0.94      0.90      5946\n",
      "\n",
      "    accuracy                           0.90     12000\n",
      "   macro avg       0.90      0.90      0.90     12000\n",
      "weighted avg       0.90      0.90      0.90     12000\n",
      "\n",
      "[[5197  857]\n",
      " [ 362 5584]]\n"
     ]
    }
   ],
   "source": [
    "xgb_opt = XGBClassifier(learning_rate=0.18373847549667507, max_depth=9, n_estimators=927)\n",
    "xgb_opt.fit(X_train,y_train)\n",
    "\n",
    "xgb_opt_pred_train = xgb_opt.predict(X_train)\n",
    "xgb_opt_pred_test = xgb_opt.predict(X_test)\n",
    "\n",
    "print(classification_report(y_train, xgb_opt_pred_train))\n",
    "\n",
    "print(confusion_matrix(y_train,xgb_opt_pred_train))\n",
    "\n",
    "print(classification_report(y_test, xgb_opt_pred_test))\n",
    "\n",
    "print(confusion_matrix(y_test, xgb_opt_pred_test))"
   ]
  },
  {
   "cell_type": "code",
   "execution_count": 112,
   "metadata": {},
   "outputs": [
    {
     "name": "stdout",
     "output_type": "stream",
     "text": [
      "Confusion matrix train\n",
      "[[13946     0]\n",
      " [    0 14054]]\n",
      "Classification report train\n",
      "              precision    recall  f1-score   support\n",
      "\n",
      "           0       1.00      1.00      1.00     13946\n",
      "           1       1.00      1.00      1.00     14054\n",
      "\n",
      "    accuracy                           1.00     28000\n",
      "   macro avg       1.00      1.00      1.00     28000\n",
      "weighted avg       1.00      1.00      1.00     28000\n",
      "\n"
     ]
    },
    {
     "data": {
      "image/png": "[encoded data removed]",
      "text/plain": [
       "<Figure size 432x288 with 2 Axes>"
      ]
     },
     "metadata": {},
     "output_type": "display_data"
    },
    {
     "name": "stdout",
     "output_type": "stream",
     "text": [
      "Confusion matrix test\n",
      "[[5197  857]\n",
      " [ 362 5584]]\n",
      "Classification report test\n",
      "              precision    recall  f1-score   support\n",
      "\n",
      "           0       0.93      0.86      0.90      6054\n",
      "           1       0.87      0.94      0.90      5946\n",
      "\n",
      "    accuracy                           0.90     12000\n",
      "   macro avg       0.90      0.90      0.90     12000\n",
      "weighted avg       0.90      0.90      0.90     12000\n",
      "\n"
     ]
    },
    {
     "data": {
      "image/png": "[encoded data removed]",
      "text/plain": [
       "<Figure size 432x288 with 2 Axes>"
      ]
     },
     "metadata": {},
     "output_type": "display_data"
    }
   ],
   "source": [
    "scores(y_train, y_test, xgb_opt_pred_train, xgb_opt_pred_test, filename='xgboost')"
   ]
  },
  {
   "cell_type": "markdown",
   "metadata": {},
   "source": [
    "# AdaBoost"
   ]
  },
  {
   "cell_type": "code",
   "execution_count": 99,
   "metadata": {},
   "outputs": [
    {
     "name": "stdout",
     "output_type": "stream",
     "text": [
      "[[3936 2118]\n",
      " [1962 3984]]\n",
      "              precision    recall  f1-score   support\n",
      "\n",
      "           0       0.67      0.65      0.66      6054\n",
      "           1       0.65      0.67      0.66      5946\n",
      "\n",
      "    accuracy                           0.66     12000\n",
      "   macro avg       0.66      0.66      0.66     12000\n",
      "weighted avg       0.66      0.66      0.66     12000\n",
      "\n",
      "[[9114 4832]\n",
      " [4665 9389]]\n",
      "              precision    recall  f1-score   support\n",
      "\n",
      "           0       0.66      0.65      0.66     13946\n",
      "           1       0.66      0.67      0.66     14054\n",
      "\n",
      "    accuracy                           0.66     28000\n",
      "   macro avg       0.66      0.66      0.66     28000\n",
      "weighted avg       0.66      0.66      0.66     28000\n",
      "\n"
     ]
    }
   ],
   "source": [
    "from sklearn.ensemble import AdaBoostClassifier\n",
    "\n",
    "# fit model no training data\n",
    "ada = AdaBoostClassifier(random_state = random_state)\n",
    "ada.fit(X_train, y_train)\n",
    "\n",
    "y_pred = ada.predict(X_test)\n",
    "y_pred_train = ada.predict(X_train)\n",
    "\n",
    "print(confusion_matrix(y_test, y_pred))\n",
    "\n",
    "print(classification_report(y_test, y_pred))\n",
    "\n",
    "print(confusion_matrix(y_train, y_pred_train))\n",
    "\n",
    "print(classification_report(y_train, y_pred_train))"
   ]
  },
  {
   "cell_type": "markdown",
   "metadata": {},
   "source": [
    "## AdaBoost Optimization with RandomizedSearchCV"
   ]
  },
  {
   "cell_type": "code",
   "execution_count": 100,
   "metadata": {},
   "outputs": [
    {
     "name": "stderr",
     "output_type": "stream",
     "text": [
      "[Parallel(n_jobs=-1)]: Using backend LokyBackend with 8 concurrent workers.\n",
      "[Parallel(n_jobs=-1)]: Done  50 out of  50 | elapsed:  6.8min finished\n"
     ]
    }
   ],
   "source": [
    "ada = AdaBoostClassifier(random_state=random_state)\n",
    "parameters = {'n_estimators':[50, 100, 200, 500, 1000, 1500, 2000], \n",
    "              'learning_rate':[0.05, 0.1, 0.15, 0.2, 0.25, 0.5, 0.75, 1.0]}\n",
    "\n",
    "ada_obj = RandomizedSearchCV(ada, \n",
    "                            param_distributions=parameters, \n",
    "                            scoring = 'f1', \n",
    "                            cv = 5,\n",
    "                            n_iter = 10,\n",
    "                            random_state=random_state,\n",
    "                            verbose=-1,\n",
    "                            n_jobs = -1)\n",
    "\n",
    "ada_fit = ada_obj.fit(X_train, y_train)"
   ]
  },
  {
   "cell_type": "code",
   "execution_count": 101,
   "metadata": {},
   "outputs": [
    {
     "name": "stdout",
     "output_type": "stream",
     "text": [
      "{'n_estimators': 50, 'learning_rate': 0.05}\n",
      "0.6679904914134471\n"
     ]
    }
   ],
   "source": [
    "print(ada_fit.best_params_)\n",
    "print(ada_fit.best_score_)"
   ]
  },
  {
   "cell_type": "markdown",
   "metadata": {},
   "source": [
    "## AdaBoost with optimized parameter - Score F1"
   ]
  },
  {
   "cell_type": "markdown",
   "metadata": {},
   "source": [
    "The best prameter of the optimization are the following:"
   ]
  },
  {
   "cell_type": "markdown",
   "metadata": {},
   "source": [
    "{'n_estimators': 50, 'learning_rate': 0.05}"
   ]
  },
  {
   "cell_type": "code",
   "execution_count": 102,
   "metadata": {
    "scrolled": true
   },
   "outputs": [
    {
     "name": "stdout",
     "output_type": "stream",
     "text": [
      "              precision    recall  f1-score   support\n",
      "\n",
      "           0       0.66      0.55      0.60     13946\n",
      "           1       0.62      0.72      0.67     14054\n",
      "\n",
      "    accuracy                           0.64     28000\n",
      "   macro avg       0.64      0.64      0.64     28000\n",
      "weighted avg       0.64      0.64      0.64     28000\n",
      "\n",
      "[[ 7693  6253]\n",
      " [ 3879 10175]]\n",
      "              precision    recall  f1-score   support\n",
      "\n",
      "           0       0.67      0.55      0.60      6054\n",
      "           1       0.61      0.73      0.66      5946\n",
      "\n",
      "    accuracy                           0.64     12000\n",
      "   macro avg       0.64      0.64      0.63     12000\n",
      "weighted avg       0.64      0.64      0.63     12000\n",
      "\n",
      "[[3306 2748]\n",
      " [1632 4314]]\n"
     ]
    }
   ],
   "source": [
    "ada_opt = AdaBoostClassifier(random_state=random_state,n_estimators=50,learning_rate=0.05)\n",
    "\n",
    "ada_opt.fit(X_train,y_train)\n",
    "\n",
    "ada_opt_pred_train = ada_opt.predict(X_train)\n",
    "ada_opt_pred_test = ada_opt.predict(X_test)\n",
    "\n",
    "print(classification_report(y_train, ada_opt_pred_train))\n",
    "\n",
    "print(confusion_matrix(y_train, ada_opt_pred_train))\n",
    "\n",
    "print(classification_report(y_test, ada_opt_pred_test))\n",
    "\n",
    "print(confusion_matrix(y_test, ada_opt_pred_test))"
   ]
  },
  {
   "cell_type": "code",
   "execution_count": 113,
   "metadata": {},
   "outputs": [
    {
     "name": "stdout",
     "output_type": "stream",
     "text": [
      "Confusion matrix train\n",
      "[[ 7693  6253]\n",
      " [ 3879 10175]]\n",
      "Classification report train\n",
      "              precision    recall  f1-score   support\n",
      "\n",
      "           0       0.66      0.55      0.60     13946\n",
      "           1       0.62      0.72      0.67     14054\n",
      "\n",
      "    accuracy                           0.64     28000\n",
      "   macro avg       0.64      0.64      0.64     28000\n",
      "weighted avg       0.64      0.64      0.64     28000\n",
      "\n"
     ]
    },
    {
     "data": {
      "image/png": "[encoded data removed]",
      "text/plain": [
       "<Figure size 432x288 with 2 Axes>"
      ]
     },
     "metadata": {},
     "output_type": "display_data"
    },
    {
     "name": "stdout",
     "output_type": "stream",
     "text": [
      "Confusion matrix test\n",
      "[[3306 2748]\n",
      " [1632 4314]]\n",
      "Classification report test\n",
      "              precision    recall  f1-score   support\n",
      "\n",
      "           0       0.67      0.55      0.60      6054\n",
      "           1       0.61      0.73      0.66      5946\n",
      "\n",
      "    accuracy                           0.64     12000\n",
      "   macro avg       0.64      0.64      0.63     12000\n",
      "weighted avg       0.64      0.64      0.63     12000\n",
      "\n"
     ]
    },
    {
     "data": {
      "image/png": "[encoded data removed]",
      "text/plain": [
       "<Figure size 432x288 with 2 Axes>"
      ]
     },
     "metadata": {},
     "output_type": "display_data"
    }
   ],
   "source": [
    "scores(y_train, y_test, ada_opt_pred_train, ada_opt_pred_test, filename='adaboost')"
   ]
  },
  {
   "cell_type": "code",
   "execution_count": null,
   "metadata": {},
   "outputs": [],
   "source": []
  }
 ],
 "metadata": {
  "kernelspec": {
   "display_name": "Python [conda env:nf] *",
   "language": "python",
   "name": "conda-env-nf-py"
  },
  "language_info": {
   "codemirror_mode": {
    "name": "ipython",
    "version": 3
   },
   "file_extension": ".py",
   "mimetype": "text/x-python",
   "name": "python",
   "nbconvert_exporter": "python",
   "pygments_lexer": "ipython3",
   "version": "3.6.10"
  },
  "toc": {
   "base_numbering": 1,
   "nav_menu": {},
   "number_sections": true,
   "sideBar": true,
   "skip_h1_title": false,
   "title_cell": "Table of Contents",
   "title_sidebar": "Contents",
   "toc_cell": false,
   "toc_position": {
    "height": "calc(100% - 180px)",
    "left": "10px",
    "top": "150px",
    "width": "424.391px"
   },
   "toc_section_display": true,
   "toc_window_display": true
  }
 },
 "nbformat": 4,
 "nbformat_minor": 4
}
